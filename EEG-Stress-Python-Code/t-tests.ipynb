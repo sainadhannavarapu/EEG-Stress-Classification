{
 "cells": [
  {
   "cell_type": "code",
   "execution_count": 1,
   "id": "8b2c7ad6",
   "metadata": {},
   "outputs": [
    {
     "ename": "NameError",
     "evalue": "name 'svm_clf' is not defined",
     "output_type": "error",
     "traceback": [
      "\u001b[1;31m---------------------------------------------------------------------------\u001b[0m",
      "\u001b[1;31mNameError\u001b[0m                                 Traceback (most recent call last)",
      "Cell \u001b[1;32mIn[1], line 34\u001b[0m\n\u001b[0;32m     31\u001b[0m random_features \u001b[38;5;241m=\u001b[39m time_series_features(np\u001b[38;5;241m.\u001b[39mexpand_dims(random_data, axis\u001b[38;5;241m=\u001b[39m\u001b[38;5;241m1\u001b[39m))\n\u001b[0;32m     33\u001b[0m \u001b[38;5;66;03m# Predict the stress level for the selected data point\u001b[39;00m\n\u001b[1;32m---> 34\u001b[0m y_pred \u001b[38;5;241m=\u001b[39m \u001b[43msvm_clf\u001b[49m\u001b[38;5;241m.\u001b[39mpredict(random_features)\n\u001b[0;32m     36\u001b[0m \u001b[38;5;66;03m# Calculate the p-values using a t-test\u001b[39;00m\n\u001b[0;32m     37\u001b[0m stressed_data \u001b[38;5;241m=\u001b[39m features[np\u001b[38;5;241m.\u001b[39mwhere(label \u001b[38;5;241m!=\u001b[39m \u001b[38;5;241m0\u001b[39m)]\n",
      "\u001b[1;31mNameError\u001b[0m: name 'svm_clf' is not defined"
     ]
    }
   ],
   "source": [
    "import scipy\n",
    "import pandas as pd\n",
    "import numpy as np\n",
    "from dataset import load_dataset, load_labels, split_data, format_labels\n",
    "from features import time_series_features, fractal_features, entropy_features, hjorth_features, freq_band_features\n",
    "import variables as v\n",
    "import random\n",
    "\n",
    "\n",
    "\n",
    "test_type = \"Arithmetic\"  # or any other test type you want to use\n",
    "\n",
    "# Load the dataset and split it by sampling frequency\n",
    "\n",
    "\n",
    "# Load the labels and format them\n",
    "label_ = load_labels()\n",
    "dataset_ = load_dataset(data_type=\"wt_filtered\", test_type=test_type)\n",
    "dataset = split_data(dataset_, v.SFREQ)\n",
    "label = format_labels(label_, test_type=test_type, epochs=dataset.shape[1])\n",
    "\n",
    "# Extract features using Hjorth's method\n",
    "features = hjorth_features(dataset)\n",
    "\n",
    "# Split the data into stressed and non-stressed\n",
    "stressed_data = features[np.where(label != 0)]\n",
    "non_stressed_data = features[np.where(label == 0)]\n",
    "\n",
    "random_index = np.random.randint(0, len(dataset))\n",
    "random_data = dataset[random_index]\n",
    "random_features = time_series_features(np.expand_dims(random_data, axis=1))\n",
    "\n",
    "# Predict the stress level for the selected data point\n",
    "y_pred = svm_clf.predict(random_features)\n",
    "\n",
    "# Calculate the p-values using a t-test\n",
    "stressed_data = features[np.where(label != 0)]\n",
    "non_stressed_data = features[np.where(label == 0)]\n",
    "P = np.zeros(features.shape[1])\n",
    "for j, i in enumerate(range(features.shape[1])):\n",
    "    _, p = scipy.stats.ttest_ind(stressed_data[:, i], non_stressed_data[:, i])\n",
    "    P[j] = p\n",
    "\n",
    "x, x_test, y, y_test = train_test_split(features, label, test_size=0.2, random_state=1)\n",
    "x_train, x_val, y_train, y_val = train_test_split(x, y, test_size=0.25, random_state=1)\n",
    "\n",
    "\n"
   ]
  },
  {
   "cell_type": "code",
   "execution_count": 5,
   "id": "23b15027",
   "metadata": {},
   "outputs": [],
   "source": [
    "test_type = \"Arithmetic\"  # or any other test type you want to use\n",
    "\n",
    "# Load the dataset and split it by sampling frequency\n",
    "dataset_ = load_dataset(data_type=\"wt_filtered\", test_type=test_type)"
   ]
  },
  {
   "cell_type": "code",
   "execution_count": null,
   "id": "e9af0474",
   "metadata": {},
   "outputs": [],
   "source": []
  }
 ],
 "metadata": {
  "kernelspec": {
   "display_name": "Python 3 (ipykernel)",
   "language": "python",
   "name": "python3"
  },
  "language_info": {
   "codemirror_mode": {
    "name": "ipython",
    "version": 3
   },
   "file_extension": ".py",
   "mimetype": "text/x-python",
   "name": "python",
   "nbconvert_exporter": "python",
   "pygments_lexer": "ipython3",
   "version": "3.10.9"
  }
 },
 "nbformat": 4,
 "nbformat_minor": 5
}
